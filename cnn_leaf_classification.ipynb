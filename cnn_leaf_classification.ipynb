{
 "cells": [
  {
   "cell_type": "markdown",
   "metadata": {},
   "source": [
    "# Deep Learning Major Task\n",
    "## CNN Leaf Classification"
   ]
  },
  {
   "cell_type": "markdown",
   "metadata": {},
   "source": [
    "### Description:"
   ]
  },
  {
   "cell_type": "markdown",
   "metadata": {},
   "source": [
    "### First lets write our imports"
   ]
  },
  {
   "cell_type": "code",
   "execution_count": 1,
   "metadata": {},
   "outputs": [],
   "source": [
    "import pandas as pd\n",
    "\n",
    "import matplotlib.pyplot as plt\n",
    "import seaborn as sns\n",
    "\n",
    "from sklearn.model_selection import train_test_split\n",
    "from sklearn.preprocessing import StandardScaler"
   ]
  },
  {
   "cell_type": "markdown",
   "metadata": {},
   "source": []
  },
  {
   "cell_type": "markdown",
   "metadata": {},
   "source": [
    "<h1>Part I: Data Preparation </h1>\n",
    "<h2>Taking a look at the data</h2>\n",
    "<h3>Describing the data</h3>"
   ]
  },
  {
   "cell_type": "code",
   "execution_count": 9,
   "metadata": {},
   "outputs": [
    {
     "name": "stdout",
     "output_type": "stream",
     "text": [
      "#----> First ten rows of the training set:\n",
      "    id                species   margin1   margin2   margin3   margin4  \\\n",
      "0   1            Acer_Opalus  0.007812  0.023438  0.023438  0.003906   \n",
      "1   2  Pterocarya_Stenoptera  0.005859  0.000000  0.031250  0.015625   \n",
      "2   3   Quercus_Hartwissiana  0.005859  0.009766  0.019531  0.007812   \n",
      "3   5        Tilia_Tomentosa  0.000000  0.003906  0.023438  0.005859   \n",
      "4   6     Quercus_Variabilis  0.005859  0.003906  0.048828  0.009766   \n",
      "5   8   Magnolia_Salicifolia  0.070312  0.093750  0.033203  0.001953   \n",
      "6  10    Quercus_Canariensis  0.021484  0.031250  0.017578  0.009766   \n",
      "7  11          Quercus_Rubra  0.000000  0.000000  0.037109  0.050781   \n",
      "8  14        Quercus_Brantii  0.005859  0.001953  0.033203  0.015625   \n",
      "9  15         Salix_Fragilis  0.000000  0.000000  0.009766  0.037109   \n",
      "\n",
      "    margin5   margin6   margin7  margin8  ...  texture55  texture56  \\\n",
      "0  0.011719  0.009766  0.027344      0.0  ...   0.007812   0.000000   \n",
      "1  0.025391  0.001953  0.019531      0.0  ...   0.000977   0.000000   \n",
      "2  0.003906  0.005859  0.068359      0.0  ...   0.154300   0.000000   \n",
      "3  0.021484  0.019531  0.023438      0.0  ...   0.000000   0.000977   \n",
      "4  0.013672  0.015625  0.005859      0.0  ...   0.096680   0.000000   \n",
      "5  0.000000  0.152340  0.007812      0.0  ...   0.145510   0.000000   \n",
      "6  0.001953  0.042969  0.039062      0.0  ...   0.085938   0.000000   \n",
      "7  0.003906  0.000000  0.003906      0.0  ...   0.038086   0.025391   \n",
      "8  0.001953  0.000000  0.023438      0.0  ...   0.000000   0.000000   \n",
      "9  0.072266  0.000000  0.000000      0.0  ...   0.000000   0.000000   \n",
      "\n",
      "   texture57  texture58  texture59  texture60  texture61  texture62  \\\n",
      "0   0.002930   0.002930   0.035156    0.00000   0.000000   0.004883   \n",
      "1   0.000000   0.000977   0.023438    0.00000   0.000000   0.000977   \n",
      "2   0.005859   0.000977   0.007812    0.00000   0.000000   0.000000   \n",
      "3   0.000000   0.000000   0.020508    0.00000   0.000000   0.017578   \n",
      "4   0.021484   0.000000   0.000000    0.00000   0.000000   0.000000   \n",
      "5   0.041992   0.000000   0.005859    0.00000   0.000000   0.000000   \n",
      "6   0.040039   0.000000   0.009766    0.00000   0.000000   0.000000   \n",
      "7   0.009766   0.002930   0.021484    0.00000   0.037109   0.006836   \n",
      "8   0.008789   0.000000   0.017578    0.00000   0.000000   0.000977   \n",
      "9   0.000000   0.070312   0.013672    0.19238   0.000000   0.074219   \n",
      "\n",
      "   texture63  texture64  \n",
      "0   0.000000   0.025391  \n",
      "1   0.039062   0.022461  \n",
      "2   0.020508   0.002930  \n",
      "3   0.000000   0.047852  \n",
      "4   0.000000   0.031250  \n",
      "5   0.001953   0.013672  \n",
      "6   0.039062   0.003906  \n",
      "7   0.002930   0.036133  \n",
      "8   0.033203   0.074219  \n",
      "9   0.000000   0.000000  \n",
      "\n",
      "[10 rows x 194 columns]\n",
      "----> training set description:\n",
      "                 id     margin1     margin2     margin3     margin4  \\\n",
      "count   990.000000  990.000000  990.000000  990.000000  990.000000   \n",
      "mean    799.595960    0.017412    0.028539    0.031988    0.023280   \n",
      "std     452.477568    0.019739    0.038855    0.025847    0.028411   \n",
      "min       1.000000    0.000000    0.000000    0.000000    0.000000   \n",
      "25%     415.250000    0.001953    0.001953    0.013672    0.005859   \n",
      "50%     802.500000    0.009766    0.011719    0.025391    0.013672   \n",
      "75%    1195.500000    0.025391    0.041016    0.044922    0.029297   \n",
      "max    1584.000000    0.087891    0.205080    0.156250    0.169920   \n",
      "\n",
      "          margin5     margin6     margin7     margin8     margin9  ...  \\\n",
      "count  990.000000  990.000000  990.000000  990.000000  990.000000  ...   \n",
      "mean     0.014264    0.038579    0.019202    0.001083    0.007167  ...   \n",
      "std      0.018390    0.052030    0.017511    0.002743    0.008933  ...   \n",
      "min      0.000000    0.000000    0.000000    0.000000    0.000000  ...   \n",
      "25%      0.001953    0.000000    0.005859    0.000000    0.001953  ...   \n",
      "50%      0.007812    0.015625    0.015625    0.000000    0.005859  ...   \n",
      "75%      0.017578    0.056153    0.029297    0.000000    0.007812  ...   \n",
      "max      0.111330    0.310550    0.091797    0.031250    0.076172  ...   \n",
      "\n",
      "        texture55   texture56   texture57   texture58   texture59   texture60  \\\n",
      "count  990.000000  990.000000  990.000000  990.000000  990.000000  990.000000   \n",
      "mean     0.036501    0.005024    0.015944    0.011586    0.016108    0.014017   \n",
      "std      0.063403    0.019321    0.023214    0.025040    0.015335    0.060151   \n",
      "min      0.000000    0.000000    0.000000    0.000000    0.000000    0.000000   \n",
      "25%      0.000000    0.000000    0.000977    0.000000    0.004883    0.000000   \n",
      "50%      0.004883    0.000000    0.005859    0.000977    0.012695    0.000000   \n",
      "75%      0.043701    0.000000    0.022217    0.009766    0.021484    0.000000   \n",
      "max      0.429690    0.202150    0.172850    0.200200    0.106450    0.578130   \n",
      "\n",
      "        texture61   texture62   texture63   texture64  \n",
      "count  990.000000  990.000000  990.000000  990.000000  \n",
      "mean     0.002688    0.020291    0.008989    0.019420  \n",
      "std      0.011415    0.039040    0.013791    0.022768  \n",
      "min      0.000000    0.000000    0.000000    0.000000  \n",
      "25%      0.000000    0.000000    0.000000    0.000977  \n",
      "50%      0.000000    0.003906    0.002930    0.011719  \n",
      "75%      0.000000    0.023438    0.012695    0.029297  \n",
      "max      0.151370    0.375980    0.086914    0.141600  \n",
      "\n",
      "[8 rows x 193 columns]\n",
      "<class 'pandas.core.frame.DataFrame'>\n",
      "RangeIndex: 990 entries, 0 to 989\n",
      "Columns: 194 entries, id to texture64\n",
      "dtypes: float64(192), int64(1), object(1)\n",
      "memory usage: 1.5+ MB\n",
      "----> training set information:\n",
      " None\n"
     ]
    }
   ],
   "source": [
    "# Load the training set (replace 'train.csv' with the actual file name)\n",
    "train_df = pd.read_csv(r'.\\data_files\\train.csv')\n",
    "\n",
    "# Display the first ten rows of the training set\n",
    "print(\"#----> First ten rows of the training set:\\n\", train_df.head(10))\n",
    "\n",
    "# Get basic description of the training set\n",
    "print(\"----> training set description:\\n\", train_df.describe())\n",
    "\n",
    "# Get basic information of the training set\n",
    "print(\"----> training set information:\\n\", train_df.info())"
   ]
  },
  {
   "cell_type": "markdown",
   "metadata": {},
   "source": [
    "<h3>Cleaning the data</h3>"
   ]
  },
  {
   "cell_type": "markdown",
   "metadata": {},
   "source": [
    "Check for missing and duplicate values"
   ]
  },
  {
   "cell_type": "code",
   "execution_count": 10,
   "metadata": {},
   "outputs": [
    {
     "name": "stdout",
     "output_type": "stream",
     "text": [
      "Missing values:  id           0\n",
      "species      0\n",
      "margin1      0\n",
      "margin2      0\n",
      "margin3      0\n",
      "            ..\n",
      "texture60    0\n",
      "texture61    0\n",
      "texture62    0\n",
      "texture63    0\n",
      "texture64    0\n",
      "Length: 194, dtype: int64\n",
      "Duplicate values:  0\n"
     ]
    }
   ],
   "source": [
    "# Check for missing values\n",
    "print(\"Missing values: \", train_df.isnull().sum())\n",
    "\n",
    "# Check for duplicates\n",
    "print(\"Duplicate values: \", train_df.duplicated().sum())\n"
   ]
  },
  {
   "cell_type": "markdown",
   "metadata": {},
   "source": [
    "----> Looks like we don't have any missing or duplicate values"
   ]
  },
  {
   "cell_type": "markdown",
   "metadata": {},
   "source": [
    "<h3>Visualizing the data</h3>"
   ]
  },
  {
   "cell_type": "code",
   "execution_count": null,
   "metadata": {},
   "outputs": [],
   "source": []
  },
  {
   "cell_type": "markdown",
   "metadata": {},
   "source": [
    "<h3>Correleation Analysis </h3>"
   ]
  },
  {
   "cell_type": "code",
   "execution_count": null,
   "metadata": {},
   "outputs": [],
   "source": []
  },
  {
   "cell_type": "markdown",
   "metadata": {},
   "source": [
    "<h2>Train/Test split</h2>"
   ]
  },
  {
   "cell_type": "code",
   "execution_count": null,
   "metadata": {},
   "outputs": [],
   "source": []
  },
  {
   "cell_type": "markdown",
   "metadata": {},
   "source": [
    "<h2>Data Standardization</h2>"
   ]
  },
  {
   "cell_type": "code",
   "execution_count": null,
   "metadata": {},
   "outputs": [],
   "source": []
  },
  {
   "cell_type": "markdown",
   "metadata": {},
   "source": [
    "<h2>Label Encoding</h2>"
   ]
  },
  {
   "cell_type": "code",
   "execution_count": null,
   "metadata": {},
   "outputs": [],
   "source": []
  },
  {
   "cell_type": "markdown",
   "metadata": {},
   "source": [
    "<h1>Part II: Training the Neural Network</h1>"
   ]
  }
 ],
 "metadata": {
  "kernelspec": {
   "display_name": "Python 3",
   "language": "python",
   "name": "python3"
  },
  "language_info": {
   "codemirror_mode": {
    "name": "ipython",
    "version": 3
   },
   "file_extension": ".py",
   "mimetype": "text/x-python",
   "name": "python",
   "nbconvert_exporter": "python",
   "pygments_lexer": "ipython3",
   "version": "3.11.1"
  }
 },
 "nbformat": 4,
 "nbformat_minor": 2
}
